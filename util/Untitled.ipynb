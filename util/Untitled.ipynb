{
 "cells": [
  {
   "cell_type": "markdown",
   "metadata": {},
   "source": [
    "Function for Exporting Tiles per Geom\n",
    "Where zoom level is 9\n",
    "\n",
    "WITH c AS (SELECT CDB_XYZ_Extent(x, y, 9) g, x, y FROM GENERATE_SERIES(0,pow(2, 9)::int-1) x, GENERATE_SERIES(0,pow(2, 9)::int-1) y),\n",
    "states AS (SELECT cartodb_id, the_geom_webmercator, c.x, c.y, 9 as zoom FROM andrew.ne_50m_admin_1_states_2, c WHERE ST_Intersects(andrew.ne_50m_admin_1_states_2.the_geom_webmercator, c.g))\n",
    "SELECT x, y, ARRAY_AGG(cartodb_id::int) FROM states GROUP BY x,y, the_geom_webmercator ORDER BY x asc,y desc\n",
    "\n"
   ]
  },
  {
   "cell_type": "code",
   "execution_count": null,
   "metadata": {
    "collapsed": true
   },
   "outputs": [],
   "source": [
    "Turn CSV into a \"spatial index\""
   ]
  },
  {
   "cell_type": "code",
   "execution_count": 1,
   "metadata": {
    "collapsed": false
   },
   "outputs": [
    {
     "name": "stdout",
     "output_type": "stream",
     "text": [
      "['125', '314', '{1223}']\n"
     ]
    }
   ],
   "source": [
    "import csv\n",
    "import json\n",
    "\n",
    "name = \"tl_2014_census_tracts\"\n",
    "file = name+\".csv\"\n",
    "f=0\n",
    "reader = csv.reader(open(file),delimiter=',')\n",
    "next(reader, None)\n",
    "data = {}\n",
    "for row in reader:\n",
    "    if int(row[0]) in data.keys():\n",
    "        pass\n",
    "    else:\n",
    "        data[int(row[0])] ={}\n",
    "        if int(row[0])==125:\n",
    "            print row\n",
    "    data[int(row[0])][int(row[1])] = json.loads(row[2].replace('{','[').replace('}',']'))\n",
    "# print data\n"
   ]
  },
  {
   "cell_type": "code",
   "execution_count": 2,
   "metadata": {
    "collapsed": true
   },
   "outputs": [],
   "source": [
    "with open(name+'.json', 'w') as outfile:\n",
    "    json.dump(data, outfile)"
   ]
  },
  {
   "cell_type": "code",
   "execution_count": 30,
   "metadata": {
    "collapsed": false
   },
   "outputs": [
    {
     "ename": "SyntaxError",
     "evalue": "invalid syntax (<ipython-input-30-cc782923012e>, line 1)",
     "output_type": "error",
     "traceback": [
      "\u001b[0;36m  File \u001b[0;32m\"<ipython-input-30-cc782923012e>\"\u001b[0;36m, line \u001b[0;32m1\u001b[0m\n\u001b[0;31m    Turn our Geojson into a directory of shapes\u001b[0m\n\u001b[0m           ^\u001b[0m\n\u001b[0;31mSyntaxError\u001b[0m\u001b[0;31m:\u001b[0m invalid syntax\n"
     ]
    }
   ],
   "source": [
    "Turn our Geojson into a directory of shapes"
   ]
  },
  {
   "cell_type": "code",
   "execution_count": 6,
   "metadata": {
    "collapsed": false
   },
   "outputs": [],
   "source": [
    "\n",
    "with open(name+'.geojson') as data_file:    \n",
    "    data = json.load(data_file)\n",
    "for f in data['features']:\n",
    "    out = {'type': 'FeatureCollection', 'features': [f]}\n",
    "    fip = int(f['properties']['cartodb_id'])\n",
    "    with open('census/'+str(fip)+'.json', 'w') as outfile:\n",
    "        json.dump(out, outfile)\n",
    "# print data"
   ]
  },
  {
   "cell_type": "code",
   "execution_count": null,
   "metadata": {
    "collapsed": true
   },
   "outputs": [],
   "source": []
  }
 ],
 "metadata": {
  "kernelspec": {
   "display_name": "Python 2",
   "language": "python",
   "name": "python2"
  },
  "language_info": {
   "codemirror_mode": {
    "name": "ipython",
    "version": 2
   },
   "file_extension": ".py",
   "mimetype": "text/x-python",
   "name": "python",
   "nbconvert_exporter": "python",
   "pygments_lexer": "ipython2",
   "version": "2.7.6"
  }
 },
 "nbformat": 4,
 "nbformat_minor": 0
}
